{
 "cells": [
  {
   "cell_type": "code",
   "execution_count": 11,
   "metadata": {},
   "outputs": [],
   "source": [
    "import cv2\n",
    "import numpy as np"
   ]
  },
  {
   "cell_type": "code",
   "execution_count": 12,
   "metadata": {},
   "outputs": [],
   "source": [
    "# get the 4 corner manually\n",
    "def get_four_points(image):\n",
    "    # Create a window to display the image\n",
    "    cv2.namedWindow(\"Select Points\")\n",
    "    \n",
    "    # Create an empty list to store the points\n",
    "    points = []\n",
    "    \n",
    "    # Define the callback function for mouse events\n",
    "    def mouse_callback(event, x, y, flags, param):\n",
    "        # If the left mouse button is clicked, add the current point to the list\n",
    "        if event == cv2.EVENT_LBUTTONDOWN:\n",
    "            points.append((x, y))\n",
    "            # Draw a circle at the current point\n",
    "            cv2.circle(image, (x, y), 5, (0, 255, 0), -1)\n",
    "            # Update the display\n",
    "            cv2.imshow(\"Select Points\", image)\n",
    "\n",
    "    # Display the image and wait for mouse clicks\n",
    "    cv2.imshow(\"Select Points\", image)\n",
    "    cv2.setMouseCallback(\"Select Points\", mouse_callback)\n",
    "    cv2.waitKey(0)\n",
    "    \n",
    "    # Check if exactly 4 points were selected\n",
    "    if len(points) != 4:\n",
    "        print(\"Error: Please select exactly 4 points\")\n",
    "        return None\n",
    "    \n",
    "    #close the window\n",
    "    cv2.destroyAllWindows()\n",
    "\n",
    "    # Return the list of points\n",
    "    return points\n",
    "   \n"
   ]
  },
  {
   "cell_type": "code",
   "execution_count": 13,
   "metadata": {},
   "outputs": [],
   "source": [
    "def sort_coordinates(coord):\n",
    "    detected_circles= [ [val[0], val[1]] for val in coord[0]]\n",
    "    detected_circles= sorted(detected_circles, key=lambda x: x[1])\n",
    "    coord2= [detected_circles[7*i:7*(i+1)] for i in range(0,6)]\n",
    "    coord3= [sorted(val, key=lambda x: x[0]) for val in coord2]\n",
    "    coord4= [val for sublist in coord3 for val in sublist]\n",
    "\n",
    "    return coord4"
   ]
  },
  {
   "cell_type": "code",
   "execution_count": 14,
   "metadata": {},
   "outputs": [],
   "source": [
    "def draw_circles_from_video(img):\n",
    "\n",
    "    # Convert to grayscale\n",
    "    gray = cv2.cvtColor(img, cv2.COLOR_BGR2GRAY)\n",
    "\n",
    "    # Blur the image\n",
    "    blur = cv2.GaussianBlur(gray, (5, 5), 0)\n",
    "    # Blur using 3 * 3 kernel.\n",
    "    gray_blurred = cv2.blur(gray, (3, 3))\n",
    "    \n",
    "    # Apply Hough transform on the blurred image.\n",
    "    detected_circles = cv2.HoughCircles(gray_blurred, \n",
    "                    cv2.HOUGH_GRADIENT, 1, 92, param1 = 82,\n",
    "                param2 = 25, minRadius = 10, maxRadius = 55)\n",
    "    \n",
    "    # Draw circles that are detected.\n",
    "    if detected_circles is not None:\n",
    "    \n",
    "        # Convert the circle parameters a, b and r to integers.\n",
    "        detected_circles = np.uint16(np.around(detected_circles))\n",
    "        #detected_circles= [ [val[0], val[1]] for val in detected_circles[0]]\n",
    "        detected_circles = sort_coordinates(detected_circles)\n",
    "\n",
    "        acc=1\n",
    "        for pt in detected_circles:\n",
    "            a, b = pt[0], pt[1]\n",
    "    \n",
    "            # Draw the circumference of the circle.\n",
    "            cv2.circle(img, (a, b), 40, (0, 255, 0), 2)\n",
    "    \n",
    "            # Draw a small circle (of radius 1) to show the center.\n",
    "            cv2.circle(img, (a, b), 1, (0, 0, 255), 3)\n",
    "            if acc<11:\n",
    "                cv2.putText(img, str(acc), (a, b), cv2.FONT_HERSHEY_SIMPLEX, 1, (0, 0, 255), 2, cv2.LINE_AA)\n",
    "            elif acc<21:\n",
    "                cv2.putText(img, str(acc), (a, b), cv2.FONT_HERSHEY_SIMPLEX, 1, (0, 0, 0), 2, cv2.LINE_AA)\n",
    "            elif acc<31:\n",
    "                cv2.putText(img, str(acc), (a, b), cv2.FONT_HERSHEY_SIMPLEX, 1, (0, 255, 30), 2, cv2.LINE_AA)\n",
    "            else:\n",
    "                cv2.putText(img, str(acc), (a, b), cv2.FONT_HERSHEY_SIMPLEX, 1, (255, 60, 0), 2, cv2.LINE_AA)\n",
    "            #draw a number in the center of the circle\n",
    "            #cv2.putText(img, str(acc), (a, b), cv2.FONT_HERSHEY_SIMPLEX, 1, (0, 0, 255), 2, cv2.LINE_AA)\n",
    "            acc+=1\n",
    "    return detected_circles,img\n",
    "\n",
    "#show image\n",
    "# img=cv2.imread('board_lab.jpg')\n",
    "# cv2.imshow('image',draw_circles_from_video(img)[1])\n",
    "\n",
    "# cv2.waitKey(0)\n",
    "# cv2.destroyAllWindows()"
   ]
  },
  {
   "cell_type": "code",
   "execution_count": 15,
   "metadata": {},
   "outputs": [
    {
     "ename": "KeyboardInterrupt",
     "evalue": "",
     "output_type": "error",
     "traceback": [
      "\u001b[0;31m---------------------------------------------------------------------------\u001b[0m",
      "\u001b[0;31mKeyboardInterrupt\u001b[0m                         Traceback (most recent call last)",
      "\u001b[1;32mUntitled-1.ipynb Cell 5\u001b[0m line \u001b[0;36m2\n\u001b[1;32m     <a href='vscode-notebook-cell:Untitled-1.ipynb?jupyter-notebook#W5sdW50aXRsZWQ%3D?line=22'>23</a>\u001b[0m cv2\u001b[39m.\u001b[39mimshow(\u001b[39m'\u001b[39m\u001b[39mWith circles\u001b[39m\u001b[39m'\u001b[39m,_withCircles )\n\u001b[1;32m     <a href='vscode-notebook-cell:Untitled-1.ipynb?jupyter-notebook#W5sdW50aXRsZWQ%3D?line=23'>24</a>\u001b[0m acc\u001b[39m+\u001b[39m\u001b[39m=\u001b[39m\u001b[39m1\u001b[39m\n\u001b[0;32m---> <a href='vscode-notebook-cell:Untitled-1.ipynb?jupyter-notebook#W5sdW50aXRsZWQ%3D?line=25'>26</a>\u001b[0m key \u001b[39m=\u001b[39m cv2\u001b[39m.\u001b[39;49mwaitKey(\u001b[39m1\u001b[39;49m)\n\u001b[1;32m     <a href='vscode-notebook-cell:Untitled-1.ipynb?jupyter-notebook#W5sdW50aXRsZWQ%3D?line=26'>27</a>\u001b[0m \u001b[39mif\u001b[39;00m key \u001b[39m==\u001b[39m \u001b[39m27\u001b[39m:\n\u001b[1;32m     <a href='vscode-notebook-cell:Untitled-1.ipynb?jupyter-notebook#W5sdW50aXRsZWQ%3D?line=27'>28</a>\u001b[0m     \u001b[39mbreak\u001b[39;00m\n",
      "\u001b[0;31mKeyboardInterrupt\u001b[0m: "
     ]
    },
    {
     "ename": "",
     "evalue": "",
     "output_type": "error",
     "traceback": [
      "\u001b[1;31mThe Kernel crashed while executing code in the the current cell or a previous cell. Please review the code in the cell(s) to identify a possible cause of the failure. Click <a href='https://aka.ms/vscodeJupyterKernelCrash'>here</a> for more info. View Jupyter <a href='command:jupyter.viewOutput'>log</a> for further details."
     ]
    }
   ],
   "source": [
    "#open camera\n",
    "cam = cv2.VideoCapture(0)\n",
    "acc=0\n",
    "\n",
    "while True:\n",
    "    check, frame = cam.read()\n",
    "    if acc == 0:\n",
    "        img = frame.copy()\n",
    "        src_pts= get_four_points(img)\n",
    "        height = 600\n",
    "        width= 700\n",
    "        # p to a numpy array\n",
    "        src_pts= np.array(src_pts)\n",
    "        dst_pts = np.array([[0, 0], [width, 0], [0, height ], [width, height ]], dtype=\"float32\")\n",
    "        #homography transform\n",
    "        \n",
    "    h, status = cv2.findHomography(src_pts, dst_pts)\n",
    "    img_out = cv2.warpPerspective(frame, h, (width,height ))\n",
    "\n",
    "    detected_circles, _withCircles= draw_circles_from_video(img_out)\n",
    "    cv2.imshow('video', frame)\n",
    "    cv2.imshow(\"Hough Transform\", img_out)\n",
    "    cv2.imshow('With circles',_withCircles )\n",
    "    acc+=1\n",
    "\n",
    "    key = cv2.waitKey(1)\n",
    "    if key == 27:\n",
    "        break\n",
    "\n",
    "cam.release()\n",
    "cv2.destroyAllWindows()\n"
   ]
  }
 ],
 "metadata": {
  "kernelspec": {
   "display_name": "Python 3",
   "language": "python",
   "name": "python3"
  },
  "language_info": {
   "codemirror_mode": {
    "name": "ipython",
    "version": 3
   },
   "file_extension": ".py",
   "mimetype": "text/x-python",
   "name": "python",
   "nbconvert_exporter": "python",
   "pygments_lexer": "ipython3",
   "version": "3.10.7"
  },
  "orig_nbformat": 4
 },
 "nbformat": 4,
 "nbformat_minor": 2
}
