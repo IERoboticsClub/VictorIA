{
 "cells": [
  {
   "cell_type": "code",
   "execution_count": 1,
   "metadata": {},
   "outputs": [],
   "source": [
    "import cv2\n",
    "import numpy as np"
   ]
  },
  {
   "attachments": {},
   "cell_type": "markdown",
   "metadata": {},
   "source": [
    "## Homography transform (image)"
   ]
  },
  {
   "cell_type": "code",
   "execution_count": 2,
   "metadata": {},
   "outputs": [],
   "source": [
    "# get the 4 corner manually\n",
    "def get_four_points(image):\n",
    "    # Create a window to display the image\n",
    "    cv2.namedWindow(\"Select Points\")\n",
    "    \n",
    "    # Create an empty list to store the points\n",
    "    points = []\n",
    "    \n",
    "    # Define the callback function for mouse events\n",
    "    def mouse_callback(event, x, y, flags, param):\n",
    "        # If the left mouse button is clicked, add the current point to the list\n",
    "        if event == cv2.EVENT_LBUTTONDOWN:\n",
    "            points.append((x, y))\n",
    "            # Draw a circle at the current point\n",
    "            cv2.circle(image, (x, y), 5, (0, 255, 0), -1)\n",
    "            # Update the display\n",
    "            cv2.imshow(\"Select Points\", image)\n",
    "\n",
    "    # Display the image and wait for mouse clicks\n",
    "    cv2.imshow(\"Select Points\", image)\n",
    "    cv2.setMouseCallback(\"Select Points\", mouse_callback)\n",
    "    cv2.waitKey(0)\n",
    "    \n",
    "    # Check if exactly 4 points were selected\n",
    "    if len(points) != 4:\n",
    "        print(\"Error: Please select exactly 4 points\")\n",
    "        return None\n",
    "    \n",
    "    #close the window\n",
    "    cv2.destroyAllWindows()\n",
    "\n",
    "    # Return the list of points\n",
    "    return points\n",
    "   \n"
   ]
  },
  {
   "cell_type": "code",
   "execution_count": 3,
   "metadata": {},
   "outputs": [],
   "source": [
    "img= cv2.imread('board1.jpg')\n",
    "src_pts= get_four_points(img)\n",
    "height = 600\n",
    "width= 700\n",
    "# p to a numpy array\n",
    "src_pts= np.array(src_pts)\n",
    "dst_pts = np.array([[0, 0], [width, 0], [0, height ], [width, height ]], dtype=\"float32\")\n",
    "#homography transform\n",
    "h, status = cv2.findHomography(src_pts, dst_pts)\n",
    "img_out = cv2.warpPerspective(img, h, (width,height ))\n",
    "cv2.imshow(\"result\", img_out)\n",
    "cv2.waitKey(0)\n",
    "cv2.destroyAllWindows()\n",
    "    \n"
   ]
  },
  {
   "cell_type": "code",
   "execution_count": 5,
   "metadata": {},
   "outputs": [],
   "source": [
    "cv2.imshow(\"result\", img_out)\n",
    "cv2.waitKey(0)\n",
    "cv2.destroyAllWindows()"
   ]
  },
  {
   "cell_type": "code",
   "execution_count": 5,
   "metadata": {},
   "outputs": [],
   "source": [
    "def sort_coordinates(coord):\n",
    "    detected_circles= [ [val[0], val[1]] for val in coord[0]]\n",
    "    detected_circles= sorted(detected_circles, key=lambda x: x[1])\n",
    "    coord2= [detected_circles[7*i:7*(i+1)] for i in range(0,6)]\n",
    "    coord3= [sorted(val, key=lambda x: x[0]) for val in coord2]\n",
    "    coord4= [val for sublist in coord3 for val in sublist]\n",
    "\n",
    "    return coord4"
   ]
  },
  {
   "cell_type": "code",
   "execution_count": 11,
   "metadata": {},
   "outputs": [],
   "source": [
    "img = img_out.copy()\n",
    "def draw_circles_from_image(img):\n",
    "\n",
    "    # Convert to grayscale\n",
    "    gray = cv2.cvtColor(img, cv2.COLOR_BGR2GRAY)\n",
    "\n",
    "    # Blur the image\n",
    "    blur = cv2.GaussianBlur(gray, (5, 5), 0)\n",
    "    # Blur using 3 * 3 kernel.\n",
    "    gray_blurred = cv2.blur(gray, (3, 3))\n",
    "    \n",
    "    # Apply Hough transform on the blurred image.\n",
    "    detected_circles = cv2.HoughCircles(gray_blurred, \n",
    "                    cv2.HOUGH_GRADIENT, 1, 50, param1 = 95,\n",
    "                param2 = 40, minRadius = 10, maxRadius = 55)\n",
    "    \n",
    "    # Draw circles that are detected.\n",
    "    if detected_circles is not None:\n",
    "    \n",
    "        # Convert the circle parameters a, b and r to integers.\n",
    "        detected_circles = np.uint16(np.around(detected_circles))\n",
    "        detected_circles = sort_coordinates(detected_circles)\n",
    "\n",
    "        acc=1\n",
    "        for pt in detected_circles:\n",
    "            a, b = pt[0], pt[1]\n",
    "    \n",
    "            # Draw the circumference of the circle.\n",
    "            cv2.circle(img, (a, b), 40, (0, 255, 0), 2)\n",
    "    \n",
    "            # Draw a small circle (of radius 1) to show the center.\n",
    "            cv2.circle(img, (a, b), 1, (0, 0, 255), 3)\n",
    "            if acc<11:\n",
    "                cv2.putText(img, str(acc), (a, b), cv2.FONT_HERSHEY_SIMPLEX, 1, (0, 0, 255), 2, cv2.LINE_AA)\n",
    "            elif acc<21:\n",
    "                cv2.putText(img, str(acc), (a, b), cv2.FONT_HERSHEY_SIMPLEX, 1, (0, 0, 0), 2, cv2.LINE_AA)\n",
    "            elif acc<31:\n",
    "                cv2.putText(img, str(acc), (a, b), cv2.FONT_HERSHEY_SIMPLEX, 1, (0, 255, 30), 2, cv2.LINE_AA)\n",
    "            else:\n",
    "                cv2.putText(img, str(acc), (a, b), cv2.FONT_HERSHEY_SIMPLEX, 1, (255, 60, 0), 2, cv2.LINE_AA)\n",
    "            #draw a number in the center of the circle\n",
    "            #cv2.putText(img, str(acc), (a, b), cv2.FONT_HERSHEY_SIMPLEX, 1, (0, 0, 255), 2, cv2.LINE_AA)\n",
    "            acc+=1\n",
    "    return img\n",
    "\n",
    "        \n",
    "#show image\n",
    "cv2.imshow('image',draw_circles_from_image(img))\n",
    "\n",
    "cv2.waitKey(0)\n",
    "cv2.destroyAllWindows()"
   ]
  },
  {
   "cell_type": "code",
   "execution_count": 144,
   "metadata": {},
   "outputs": [],
   "source": [
    "detected_circles"
   ]
  },
  {
   "cell_type": "code",
   "execution_count": 7,
   "metadata": {},
   "outputs": [],
   "source": [
    "board = [\n",
    "    [\".\", \".\", \".\", \".\" , \".\", \".\",  \".\"], \n",
    "    [\".\", \".\", \".\", \".\" , \".\", \".\",  \".\"],\n",
    "    [\".\", \".\", \".\", \".\" , \".\", \".\",  \".\"],\n",
    "    [\".\", \".\", \".\", \".\" , \".\", \".\",  \".\"],\n",
    "    [\".\", \".\", \".\", \".\" , \".\", \".\",  \".\"],\n",
    "    [\".\", \".\", \".\", \".\" , \".\", \".\",  \".\"]\n",
    "]\n",
    "\n",
    "board= (np.array(board)).flatten()\n"
   ]
  },
  {
   "cell_type": "code",
   "execution_count": 10,
   "metadata": {},
   "outputs": [
    {
     "ename": "NameError",
     "evalue": "name 'circles' is not defined",
     "output_type": "error",
     "traceback": [
      "\u001b[1;31m---------------------------------------------------------------------------\u001b[0m",
      "\u001b[1;31mNameError\u001b[0m                                 Traceback (most recent call last)",
      "\u001b[1;32mc:\\Users\\34629\\OneDrive - IE Students\\BCSAI\\3rd year\\2nd cuatri\\connect4\\detectBoard.ipynb Cell 10\u001b[0m line \u001b[0;36m<module>\u001b[1;34m\u001b[0m\n\u001b[0;32m     <a href='vscode-notebook-cell:/c%3A/Users/34629/OneDrive%20-%20IE%20Students/BCSAI/3rd%20year/2nd%20cuatri/connect4/detectBoard.ipynb#X12sZmlsZQ%3D%3D?line=18'>19</a>\u001b[0m r\u001b[39m=\u001b[39m \u001b[39m20\u001b[39m\n\u001b[0;32m     <a href='vscode-notebook-cell:/c%3A/Users/34629/OneDrive%20-%20IE%20Students/BCSAI/3rd%20year/2nd%20cuatri/connect4/detectBoard.ipynb#X12sZmlsZQ%3D%3D?line=19'>20</a>\u001b[0m hsv_img \u001b[39m=\u001b[39m cv2\u001b[39m.\u001b[39mcvtColor(img, cv2\u001b[39m.\u001b[39mCOLOR_BGR2HSV)\n\u001b[1;32m---> <a href='vscode-notebook-cell:/c%3A/Users/34629/OneDrive%20-%20IE%20Students/BCSAI/3rd%20year/2nd%20cuatri/connect4/detectBoard.ipynb#X12sZmlsZQ%3D%3D?line=20'>21</a>\u001b[0m \u001b[39mfor\u001b[39;00m x,y \u001b[39min\u001b[39;00m circles:\n\u001b[0;32m     <a href='vscode-notebook-cell:/c%3A/Users/34629/OneDrive%20-%20IE%20Students/BCSAI/3rd%20year/2nd%20cuatri/connect4/detectBoard.ipynb#X12sZmlsZQ%3D%3D?line=21'>22</a>\u001b[0m     \u001b[39mprint\u001b[39m(\u001b[39m\"\u001b[39m\u001b[39mCircle #\u001b[39m\u001b[39m{}\u001b[39;00m\u001b[39m\"\u001b[39m\u001b[39m.\u001b[39mformat(num))\n\u001b[0;32m     <a href='vscode-notebook-cell:/c%3A/Users/34629/OneDrive%20-%20IE%20Students/BCSAI/3rd%20year/2nd%20cuatri/connect4/detectBoard.ipynb#X12sZmlsZQ%3D%3D?line=22'>23</a>\u001b[0m     \u001b[39mprint\u001b[39m(\u001b[39m\"\u001b[39m\u001b[39mCenter: (\u001b[39m\u001b[39m{}\u001b[39;00m\u001b[39m, \u001b[39m\u001b[39m{}\u001b[39;00m\u001b[39m)\u001b[39m\u001b[39m\"\u001b[39m\u001b[39m.\u001b[39mformat(x, y))\n",
      "\u001b[1;31mNameError\u001b[0m: name 'circles' is not defined"
     ]
    }
   ],
   "source": [
    "import cv2\n",
    "import numpy as np\n",
    "\n",
    "# Load the image\n",
    "img = img_out.copy()\n",
    "\n",
    "# Define the coordinates and radius of each circle\n",
    "detec\n",
    "circles = np.uint16(np.around(detected_circles))\n",
    "\n",
    "\n",
    "\n",
    "# Define the color range for red in HSV format\n",
    "red_range_low = np.array([0,50,50])\n",
    "red_range_high = np.array([10, 255, 255])\n",
    "\n",
    "# Loop over each circle\n",
    "num=1\n",
    "red=0\n",
    "r= 20\n",
    "hsv_img = cv2.cvtColor(img, cv2.COLOR_BGR2HSV)\n",
    "for x,y in circles:\n",
    "    print(\"Circle #{}\".format(num))\n",
    "    print(\"Center: ({}, {})\".format(x, y))\n",
    "  # Extract the center pixel color in the HSV format\n",
    "    circle_region = img[int(y-r):int(y+r), int(x-r):int(x+r)]\n",
    "    if not circle_region.any():\n",
    "        continue\n",
    "    circle_hsv = cv2.cvtColor(circle_region, cv2.COLOR_BGR2HSV)\n",
    "    hsv_pixel = np.mean(hsv_img[y-20: y+20 , x -20: x+20], axis=(0,1))\n",
    "    #hsv_pixel= hsv_img[y-4,x] \n",
    "    #print(hsv_pixel, hsv_pixel2)\n",
    "    # Check if the pixel color is within the red color range\n",
    "    if hsv_pixel[0] >= red_range_low[0] and hsv_pixel[0] <= red_range_high[0] and hsv_pixel[1] >= red_range_low[1] and hsv_pixel[1] <= red_range_high[1] and hsv_pixel[2] >= red_range_low[2] and hsv_pixel[2] <= red_range_high[2]:\n",
    "        print(\"Red\")\n",
    "        board[num-1]=\"X\"\n",
    "        red+=1\n",
    "    else:\n",
    "        print(\"Other\")\n",
    "\n",
    "    num+=1\n",
    "\n",
    "\n",
    "print(\"nums red\",red)"
   ]
  },
  {
   "cell_type": "code",
   "execution_count": 25,
   "metadata": {},
   "outputs": [
    {
     "data": {
      "text/plain": [
       "array([[0, 0, 0, ..., 0, 0, 0],\n",
       "       [0, 0, 0, ..., 0, 0, 0],\n",
       "       [0, 0, 0, ..., 0, 0, 0],\n",
       "       ...,\n",
       "       [0, 0, 0, ..., 0, 0, 0],\n",
       "       [0, 0, 0, ..., 0, 0, 0],\n",
       "       [0, 0, 0, ..., 0, 0, 0]], dtype=uint8)"
      ]
     },
     "execution_count": 25,
     "metadata": {},
     "output_type": "execute_result"
    }
   ],
   "source": [
    "r = 30\n",
    "x= 544\n",
    "y=552\n",
    "lower_red = (0, 50, 50)\n",
    "upper_red = (10, 255, 255)\n",
    "circle_region = img[int(y-r):int(y+r), int(x-r):int(x+r)]\n",
    "circle_hsv = cv2.cvtColor(circle_region, cv2.COLOR_BGR2HSV)\n",
    "mask_red = cv2.inRange(circle_hsv, lower_red, upper_red)\n",
    "mask_red"
   ]
  },
  {
   "cell_type": "code",
   "execution_count": null,
   "metadata": {},
   "outputs": [],
   "source": [
    "for i, square in enumerate(squares):\n",
    "            row = i // 3\n",
    "            col = i % 3\n",
    "            x1, y1, x2, y2 = square\n",
    "            # Add the square to the grid\n",
    "            board[row, col] = 0\n",
    "\n",
    "            # Crop the image to the bounding box of the square\n",
    "            square_img = transformed_frame[y1:y2, x1:x2]\n",
    "\n",
    "            # Convert the cropped image to grayscale\n",
    "            square_gray = cv2.cvtColor(square_img, cv2.COLOR_BGR2GRAY)\n",
    "\n",
    "            # Aplicar un filtro gaussiano para reducir el ruido\n",
    "            blur = cv2.GaussianBlur(gray, (5, 5), 0)\n",
    "\n",
    "            # Apply the Hough circle transform to detect circles\n",
    "            circles = cv2.HoughCircles(square_gray, cv2.HOUGH_GRADIENT, dp=1, minDist=20, param1=50, param2=12, minRadius=20, maxRadius=30)\n",
    "\n",
    "\n",
    "            if circles is not None:\n",
    "\n",
    "                circles = circles[0]\n",
    "                for (x, y, r) in circles:\n",
    "                    # Extraer la región del círculo\n",
    "                    circle_region = square_img[int(y-r):int(y+r), int(x-r):int(x+r)]\n",
    "                    if not circle_region.any():\n",
    "                        continue\n",
    "                    circle_hsv = cv2.cvtColor(circle_region, cv2.COLOR_BGR2HSV)\n",
    "                    \n",
    "                    \n",
    "                    # Definir rangos de color para rojo y verde\n",
    "                    lower_red = (0, 50, 50)\n",
    "                    upper_red = (10, 255, 255)\n",
    "                    lower_green = (50, 50, 50)\n",
    "                    upper_green = (70, 255, 255)\n",
    "                    \n",
    "                    # Segmentar el color del círculo utilizando los rangos de color definidos\n",
    "                    mask_red = cv2.inRange(circle_hsv, lower_red, upper_red)\n",
    "                    mask_green = cv2.inRange(circle_hsv, lower_green, upper_green)\n",
    "                    \n",
    "                    # Contar los píxeles de cada máscara para determinar el color predominante\n",
    "                    count_red = cv2.countNonZero(mask_red)\n",
    "                    count_green = cv2.countNonZero(mask_green)\n",
    "                    \n",
    "                    # Imprimir el resultado\n",
    "                    if count_red > count_green:\n",
    "                        board[row, col] = 1 \n",
    "                                            \n",
    "                    else:\n",
    "                        board[row,col] = 2"
   ]
  },
  {
   "cell_type": "code",
   "execution_count": 15,
   "metadata": {},
   "outputs": [
    {
     "name": "stdout",
     "output_type": "stream",
     "text": [
      "Detected red circles\n"
     ]
    },
    {
     "data": {
      "text/plain": [
       "[['.', '.', '.', '.', '.', '.', '.'],\n",
       " ['.', '.', '.', '.', '.', '.', '.'],\n",
       " ['.', '.', '.', '.', '.', '.', '.'],\n",
       " ['.', '.', '.', '.', '.', '.', '.'],\n",
       " ['.', '.', '.', '.', '.', 'X', '.'],\n",
       " ['.', '.', '.', '.', 'X', '.', '.']]"
      ]
     },
     "execution_count": 15,
     "metadata": {},
     "output_type": "execute_result"
    }
   ],
   "source": [
    "print(\"Detected red circles\")\n",
    "board.reshape(6,7).tolist()"
   ]
  },
  {
   "attachments": {},
   "cell_type": "markdown",
   "metadata": {},
   "source": [
    "# Try with video"
   ]
  },
  {
   "attachments": {},
   "cell_type": "markdown",
   "metadata": {},
   "source": [
    "## Get circles "
   ]
  },
  {
   "cell_type": "code",
   "execution_count": 5,
   "metadata": {},
   "outputs": [],
   "source": [
    "def draw_circles_from_video(img):\n",
    "\n",
    "    # Convert to grayscale\n",
    "    gray = cv2.cvtColor(img, cv2.COLOR_BGR2GRAY)\n",
    "\n",
    "    # Blur the image\n",
    "    blur = cv2.GaussianBlur(gray, (5, 5), 0)\n",
    "    # Blur using 3 * 3 kernel.\n",
    "    gray_blurred = cv2.blur(gray, (3, 3))\n",
    "    \n",
    "    # Apply Hough transform on the blurred image.\n",
    "    detected_circles = cv2.HoughCircles(gray_blurred, \n",
    "                    cv2.HOUGH_GRADIENT, 1, 92, param1 = 82,\n",
    "                param2 = 25, minRadius = 10, maxRadius = 55)\n",
    "    \n",
    "    # Draw circles that are detected.\n",
    "    if detected_circles is not None:\n",
    "    \n",
    "        # Convert the circle parameters a, b and r to integers.\n",
    "        detected_circles = np.uint16(np.around(detected_circles))\n",
    "        #detected_circles= [ [val[0], val[1]] for val in detected_circles[0]]\n",
    "        detected_circles = sort_coordinates(detected_circles)\n",
    "\n",
    "        acc=1\n",
    "        for pt in detected_circles:\n",
    "            a, b = pt[0], pt[1]\n",
    "    \n",
    "            # Draw the circumference of the circle.\n",
    "            cv2.circle(img, (a, b), 40, (0, 255, 0), 2)\n",
    "    \n",
    "            # Draw a small circle (of radius 1) to show the center.\n",
    "            cv2.circle(img, (a, b), 1, (0, 0, 255), 3)\n",
    "            if acc<11:\n",
    "                cv2.putText(img, str(acc), (a, b), cv2.FONT_HERSHEY_SIMPLEX, 1, (0, 0, 255), 2, cv2.LINE_AA)\n",
    "            elif acc<21:\n",
    "                cv2.putText(img, str(acc), (a, b), cv2.FONT_HERSHEY_SIMPLEX, 1, (0, 0, 0), 2, cv2.LINE_AA)\n",
    "            elif acc<31:\n",
    "                cv2.putText(img, str(acc), (a, b), cv2.FONT_HERSHEY_SIMPLEX, 1, (0, 255, 30), 2, cv2.LINE_AA)\n",
    "            else:\n",
    "                cv2.putText(img, str(acc), (a, b), cv2.FONT_HERSHEY_SIMPLEX, 1, (255, 60, 0), 2, cv2.LINE_AA)\n",
    "            #draw a number in the center of the circle\n",
    "            #cv2.putText(img, str(acc), (a, b), cv2.FONT_HERSHEY_SIMPLEX, 1, (0, 0, 255), 2, cv2.LINE_AA)\n",
    "            acc+=1\n",
    "    return detected_circles,img\n",
    "\n",
    "#show image\n",
    "img=cv2.imread('board_lab.jpg')\n",
    "cv2.imshow('image',draw_circles_from_video(img)[1])\n",
    "\n",
    "cv2.waitKey(0)\n",
    "cv2.destroyAllWindows()"
   ]
  },
  {
   "attachments": {},
   "cell_type": "markdown",
   "metadata": {},
   "source": [
    "## Circles to matrix"
   ]
  },
  {
   "cell_type": "code",
   "execution_count": 6,
   "metadata": {},
   "outputs": [],
   "source": [
    "def circles2matrix(circles, img):\n",
    "    # Define the color range for red in HSV format\n",
    "    red_range_low = np.array([0,70,50])\n",
    "    red_range_high = np.array([10, 255, 255])\n",
    "\n",
    "    # Loop over each circle\n",
    "    num=1\n",
    "    red=0\n",
    "    hsv_img = cv2.cvtColor(img, cv2.COLOR_BGR2HSV)\n",
    "    for x,y in circles:\n",
    "        print(\"Circle #{}\".format(num))\n",
    "        print(\"Center: ({}, {})\".format(x, y))\n",
    "    # Extract the center pixel color in the HSV format\n",
    "        #circle_hsv = cv2.cvtColor(circle_region, cv2.COLOR_BGR2HSV)\n",
    "        hsv_pixel = np.mean(hsv_img[y-20: y+20 , x -20: x+20], axis=(0,1))\n",
    "        print(\"HSV color: {}\".format(hsv_pixel))\n",
    "        # Check if the pixel color is within the red color range\n",
    "        if hsv_pixel[0] >= red_range_low[0] and hsv_pixel[0] <= red_range_high[0] and hsv_pixel[1] >= red_range_low[1] and hsv_pixel[1] <= red_range_high[1] and hsv_pixel[2] >= red_range_low[2] and hsv_pixel[2] <= red_range_high[2]:\n",
    "            print(\"Red\")\n",
    "            board[num-1]=\"X\"\n",
    "            red+=1\n",
    "        else:\n",
    "            print(\"Other\")\n",
    "\n",
    "        num+=1\n",
    "\n",
    "    print(\"Red circles: {}\".format(red))\n",
    "\n",
    "# do it for the image\n",
    "#circles2matrix(detected_circles,img_out)"
   ]
  },
  {
   "cell_type": "code",
   "execution_count": null,
   "metadata": {},
   "outputs": [],
   "source": []
  },
  {
   "cell_type": "code",
   "execution_count": 12,
   "metadata": {},
   "outputs": [
    {
     "name": "stdout",
     "output_type": "stream",
     "text": [
      "Error: Please select exactly 4 points\n"
     ]
    },
    {
     "ename": "error",
     "evalue": "OpenCV(4.5.5) :-1: error: (-5:Bad argument) in function 'findHomography'\n> Overload resolution failed:\n>  - srcPoints data type = 17 is not supported\n>  - Expected Ptr<cv::UMat> for argument 'srcPoints'\n>  - findHomography() missing required argument 'params' (pos 3)\n>  - findHomography() missing required argument 'params' (pos 3)\n",
     "output_type": "error",
     "traceback": [
      "\u001b[1;31m---------------------------------------------------------------------------\u001b[0m",
      "\u001b[1;31merror\u001b[0m                                     Traceback (most recent call last)",
      "\u001b[1;32mc:\\Users\\34629\\OneDrive - IE Students\\BCSAI\\3rd year\\2nd cuatri\\connect4\\detectBoard.ipynb Cell 20\u001b[0m in \u001b[0;36m<module>\u001b[1;34m\u001b[0m\n\u001b[0;32m     <a href='vscode-notebook-cell:/c%3A/Users/34629/OneDrive%20-%20IE%20Students/BCSAI/3rd%20year/2nd%20cuatri/connect4/detectBoard.ipynb#X25sZmlsZQ%3D%3D?line=13'>14</a>\u001b[0m     dst_pts \u001b[39m=\u001b[39m np\u001b[39m.\u001b[39marray([[\u001b[39m0\u001b[39m, \u001b[39m0\u001b[39m], [width, \u001b[39m0\u001b[39m], [\u001b[39m0\u001b[39m, height ], [width, height ]], dtype\u001b[39m=\u001b[39m\u001b[39m\"\u001b[39m\u001b[39mfloat32\u001b[39m\u001b[39m\"\u001b[39m)\n\u001b[0;32m     <a href='vscode-notebook-cell:/c%3A/Users/34629/OneDrive%20-%20IE%20Students/BCSAI/3rd%20year/2nd%20cuatri/connect4/detectBoard.ipynb#X25sZmlsZQ%3D%3D?line=14'>15</a>\u001b[0m     \u001b[39m#homography transform\u001b[39;00m\n\u001b[1;32m---> <a href='vscode-notebook-cell:/c%3A/Users/34629/OneDrive%20-%20IE%20Students/BCSAI/3rd%20year/2nd%20cuatri/connect4/detectBoard.ipynb#X25sZmlsZQ%3D%3D?line=16'>17</a>\u001b[0m h, status \u001b[39m=\u001b[39m cv2\u001b[39m.\u001b[39;49mfindHomography(src_pts, dst_pts)\n\u001b[0;32m     <a href='vscode-notebook-cell:/c%3A/Users/34629/OneDrive%20-%20IE%20Students/BCSAI/3rd%20year/2nd%20cuatri/connect4/detectBoard.ipynb#X25sZmlsZQ%3D%3D?line=17'>18</a>\u001b[0m img_out \u001b[39m=\u001b[39m cv2\u001b[39m.\u001b[39mwarpPerspective(frame, h, (width,height ))\n\u001b[0;32m     <a href='vscode-notebook-cell:/c%3A/Users/34629/OneDrive%20-%20IE%20Students/BCSAI/3rd%20year/2nd%20cuatri/connect4/detectBoard.ipynb#X25sZmlsZQ%3D%3D?line=19'>20</a>\u001b[0m detected_circles, _withCircles\u001b[39m=\u001b[39m draw_circles_from_video(img_out)\n",
      "\u001b[1;31merror\u001b[0m: OpenCV(4.5.5) :-1: error: (-5:Bad argument) in function 'findHomography'\n> Overload resolution failed:\n>  - srcPoints data type = 17 is not supported\n>  - Expected Ptr<cv::UMat> for argument 'srcPoints'\n>  - findHomography() missing required argument 'params' (pos 3)\n>  - findHomography() missing required argument 'params' (pos 3)\n"
     ]
    }
   ],
   "source": [
    "#open camera\n",
    "cam = cv2.VideoCapture(0)\n",
    "acc=0\n",
    "\n",
    "while True:\n",
    "    check, frame = cam.read()\n",
    "    if acc == 0:\n",
    "        img = frame.copy()\n",
    "        src_pts= get_four_points(img)\n",
    "        height = 600\n",
    "        width= 700\n",
    "        # p to a numpy array\n",
    "        src_pts= np.array(src_pts)\n",
    "        dst_pts = np.array([[0, 0], [width, 0], [0, height ], [width, height ]], dtype=\"float32\")\n",
    "        #homography transform\n",
    "        \n",
    "    h, status = cv2.findHomography(src_pts, dst_pts)\n",
    "    img_out = cv2.warpPerspective(frame, h, (width,height ))\n",
    "\n",
    "    detected_circles, _withCircles= draw_circles_from_video(img_out)\n",
    "    cv2.imshow('video', frame)\n",
    "    cv2.imshow(\"Hough Transform\", img_out)\n",
    "    cv2.imshow('With circles',_withCircles )\n",
    "    acc+=1\n",
    "\n",
    "    key = cv2.waitKey(1)\n",
    "    if key == 27:\n",
    "        break\n",
    "\n",
    "cam.release()\n",
    "cv2.destroyAllWindows()\n"
   ]
  },
  {
   "cell_type": "code",
   "execution_count": 79,
   "metadata": {},
   "outputs": [],
   "source": [
    "cv2.imshow('image',img_out)\n",
    "cv2.waitKey(0)\n",
    "cv2.destroyAllWindows()"
   ]
  }
 ],
 "metadata": {
  "kernelspec": {
   "display_name": "Python 3",
   "language": "python",
   "name": "python3"
  },
  "language_info": {
   "codemirror_mode": {
    "name": "ipython",
    "version": 3
   },
   "file_extension": ".py",
   "mimetype": "text/x-python",
   "name": "python",
   "nbconvert_exporter": "python",
   "pygments_lexer": "ipython3",
   "version": "3.10.2"
  },
  "orig_nbformat": 4
 },
 "nbformat": 4,
 "nbformat_minor": 2
}
